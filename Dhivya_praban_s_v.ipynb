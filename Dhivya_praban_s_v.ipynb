{
  "nbformat": 4,
  "nbformat_minor": 0,
  "metadata": {
    "colab": {
      "name": "Dhivya praban.s.v.ipynb",
      "provenance": [],
      "collapsed_sections": []
    },
    "kernelspec": {
      "name": "python3",
      "display_name": "Python 3"
    },
    "language_info": {
      "name": "python"
    }
  },
  "cells": [
    {
      "cell_type": "code",
      "metadata": {
        "id": "DGfRjP34AbAx"
      },
      "source": [
        "import hashlib,binascii"
      ],
      "execution_count": null,
      "outputs": []
    },
    {
      "cell_type": "markdown",
      "metadata": {
        "id": "rbSL0E7hJlLN"
      },
      "source": [
        "Arguments present in Hashlib"
      ]
    },
    {
      "cell_type": "code",
      "metadata": {
        "colab": {
          "base_uri": "https://localhost:8080/"
        },
        "id": "GmgeRWnK2Rrn",
        "outputId": "41fc1f0a-b692-4ba4-fb6d-623ac79bf342"
      },
      "source": [
        "print(hashlib.algorithms_available)"
      ],
      "execution_count": null,
      "outputs": [
        {
          "output_type": "stream",
          "text": [
            "{'sha1', 'shake_256', 'shake_128', 'sha3_512', 'blake2b', 'md5', 'sha3_224', 'sha512', 'blake2s', 'sha256', 'sha224', 'sha3_384', 'sha384', 'sha3_256'}\n"
          ],
          "name": "stdout"
        }
      ]
    },
    {
      "cell_type": "markdown",
      "metadata": {
        "id": "I7zrcZsqJqJo"
      },
      "source": [
        "Get the string from user and encrypt it by md5 argument"
      ]
    },
    {
      "cell_type": "code",
      "metadata": {
        "id": "fvx2cpIGvE7c"
      },
      "source": [
        ""
      ],
      "execution_count": null,
      "outputs": []
    },
    {
      "cell_type": "code",
      "metadata": {
        "colab": {
          "base_uri": "https://localhost:8080/"
        },
        "id": "OM3kprQh0yos",
        "outputId": "9b4c79f7-ce80-4475-bd3b-2a0619c9a03d"
      },
      "source": [
        "a=input()\n",
        "hashing=hashlib.md5(a.encode())\n",
        "print(hashing.hexdigest())"
      ],
      "execution_count": null,
      "outputs": [
        {
          "output_type": "stream",
          "text": [
            "hello\n",
            "5d41402abc4b2a76b9719d911017c592\n"
          ],
          "name": "stdout"
        }
      ]
    },
    {
      "cell_type": "markdown",
      "metadata": {
        "id": "YO0wSLIDJ_ET"
      },
      "source": [
        "Get the string from user and encrypt it by shake_256 algorithm"
      ]
    },
    {
      "cell_type": "code",
      "metadata": {
        "colab": {
          "base_uri": "https://localhost:8080/"
        },
        "id": "wE5yQcSA2csr",
        "outputId": "2ae1430f-3e7a-4fa0-a642-0f3a6bdb78a7"
      },
      "source": [
        "\n",
        "hashing=hashlib.shake_256(a.encode())\n",
        "print(hashing.digest(10))"
      ],
      "execution_count": null,
      "outputs": [
        {
          "output_type": "stream",
          "text": [
            "b'\\x124\\x07Z\\xe4\\xa1\\xe7s\\x16\\xcf'\n"
          ],
          "name": "stdout"
        }
      ]
    },
    {
      "cell_type": "markdown",
      "metadata": {
        "id": "iV9wDHL5LZKb"
      },
      "source": [
        "Get the string from user and encrypt it by shake_128 argument\n",
        "\n"
      ]
    },
    {
      "cell_type": "code",
      "metadata": {
        "colab": {
          "base_uri": "https://localhost:8080/"
        },
        "id": "lG_E4nH0JhGo",
        "outputId": "651ba323-dbe2-47cf-add4-fefbee85440d"
      },
      "source": [
        "hashing=hashlib.shake_128(a.encode())\n",
        "print(hashing.digest(10))"
      ],
      "execution_count": null,
      "outputs": [
        {
          "output_type": "stream",
          "text": [
            "b'\\x8e\\xb4\\xb6\\xa92\\xf2\\x803^\\xe1'\n"
          ],
          "name": "stdout"
        }
      ]
    },
    {
      "cell_type": "markdown",
      "metadata": {
        "id": "V9VW9Dl6L7-U"
      },
      "source": [
        "Get the string from user and encrypt it by sha1 argument"
      ]
    },
    {
      "cell_type": "code",
      "metadata": {
        "colab": {
          "base_uri": "https://localhost:8080/"
        },
        "id": "e7UoRyiHLgYs",
        "outputId": "08f25369-eaac-4c71-cc8d-d2dec7a764e6"
      },
      "source": [
        "hashing=hashlib.sha1(a.encode())\n",
        "print(hashing.hexdigest())"
      ],
      "execution_count": null,
      "outputs": [
        {
          "output_type": "stream",
          "text": [
            "aaf4c61ddcc5e8a2dabede0f3b482cd9aea9434d\n"
          ],
          "name": "stdout"
        }
      ]
    },
    {
      "cell_type": "markdown",
      "metadata": {
        "id": "pHo5NBSkb0el"
      },
      "source": [
        "Get the string from user and encrypt it by sha3_224 argument"
      ]
    },
    {
      "cell_type": "code",
      "metadata": {
        "colab": {
          "base_uri": "https://localhost:8080/"
        },
        "id": "PLjdjh3_-GR2",
        "outputId": "b4173af8-9962-416f-8805-e8a01f5b76de"
      },
      "source": [
        "hashing=hashlib.sha3_224(a.encode())\n",
        "print(hashing.hexdigest())"
      ],
      "execution_count": null,
      "outputs": [
        {
          "output_type": "stream",
          "text": [
            "b87f88c72702fff1748e58b87e9141a42c0dbedc29a78cb0d4a5cd81\n"
          ],
          "name": "stdout"
        }
      ]
    },
    {
      "cell_type": "markdown",
      "metadata": {
        "id": "3daDLzVsMMzw"
      },
      "source": [
        "Get the string from user and encrypt it by sha3_512 argument"
      ]
    },
    {
      "cell_type": "code",
      "metadata": {
        "colab": {
          "base_uri": "https://localhost:8080/"
        },
        "id": "X8gsjQlcb7pe",
        "outputId": "e16391f9-adf6-4276-fce6-d1388e2ac71c"
      },
      "source": [
        "hashing=hashlib.sha3_512(a.encode())\n",
        "print(hashing.hexdigest())"
      ],
      "execution_count": null,
      "outputs": [
        {
          "output_type": "stream",
          "text": [
            "75d527c368f2efe848ecf6b073a36767800805e9eef2b1857d5f984f036eb6df891d75f72d9b154518c1cd58835286d1da9a38deba3de98b5a53e5ed78a84976\n"
          ],
          "name": "stdout"
        }
      ]
    },
    {
      "cell_type": "markdown",
      "metadata": {
        "id": "5EZSABJ-crOT"
      },
      "source": [
        "Get the string from user and encrypt it by blake2b argument"
      ]
    },
    {
      "cell_type": "code",
      "metadata": {
        "colab": {
          "base_uri": "https://localhost:8080/"
        },
        "id": "oKpUxvR4c3BD",
        "outputId": "0fd16646-2174-4572-b946-6ae5e03d67f1"
      },
      "source": [
        "hashing=hashlib.blake2b(a.encode())\n",
        "print(hashing.hexdigest())"
      ],
      "execution_count": null,
      "outputs": [
        {
          "output_type": "stream",
          "text": [
            "e4cfa39a3d37be31c59609e807970799caa68a19bfaa15135f165085e01d41a65ba1e1b146aeb6bd0092b49eac214c103ccfa3a365954bbbe52f74a2b3620c94\n"
          ],
          "name": "stdout"
        }
      ]
    },
    {
      "cell_type": "markdown",
      "metadata": {
        "id": "Mc_eKPkFdPPC"
      },
      "source": [
        "Get the string from user and encrypt it by sha512 argument"
      ]
    },
    {
      "cell_type": "code",
      "metadata": {
        "colab": {
          "base_uri": "https://localhost:8080/"
        },
        "id": "PDIRa79cdpOO",
        "outputId": "c88f0ed6-778a-443d-ce60-2c3f271bf3c2"
      },
      "source": [
        "hashing=hashlib.sha512(a.encode())\n",
        "print(hashing.hexdigest())"
      ],
      "execution_count": null,
      "outputs": [
        {
          "output_type": "stream",
          "text": [
            "9b71d224bd62f3785d96d46ad3ea3d73319bfbc2890caadae2dff72519673ca72323c3d99ba5c11d7c7acc6e14b8c5da0c4663475c2e5c3adef46f73bcdec043\n"
          ],
          "name": "stdout"
        }
      ]
    },
    {
      "cell_type": "markdown",
      "metadata": {
        "id": "Gb4m8cYldu8Z"
      },
      "source": [
        "Get the string from user and encrypt it by sha256 argument"
      ]
    },
    {
      "cell_type": "code",
      "metadata": {
        "colab": {
          "base_uri": "https://localhost:8080/"
        },
        "id": "RHi_nrsmeThC",
        "outputId": "20158bf0-20f5-4c0e-9d9a-79ae290afb01"
      },
      "source": [
        "hashing=hashlib.sha256(a.encode())\n",
        "print(hashing.hexdigest())"
      ],
      "execution_count": null,
      "outputs": [
        {
          "output_type": "stream",
          "text": [
            "2cf24dba5fb0a30e26e83b2ac5b9e29e1b161e5c1fa7425e73043362938b9824\n"
          ],
          "name": "stdout"
        }
      ]
    },
    {
      "cell_type": "markdown",
      "metadata": {
        "id": "kmU-tOXaebB0"
      },
      "source": [
        "Get the string from user and encrypt it by sha224 argument"
      ]
    },
    {
      "cell_type": "code",
      "metadata": {
        "colab": {
          "base_uri": "https://localhost:8080/"
        },
        "id": "-goE4RjfefDw",
        "outputId": "cceebf51-ab6b-459a-c358-afe4a0ed503c"
      },
      "source": [
        "hashing=hashlib.sha224(a.encode())\n",
        "print(hashing.hexdigest())"
      ],
      "execution_count": null,
      "outputs": [
        {
          "output_type": "stream",
          "text": [
            "ea09ae9cc6768c50fcee903ed054556e5bfc8347907f12598aa24193\n"
          ],
          "name": "stdout"
        }
      ]
    },
    {
      "cell_type": "markdown",
      "metadata": {
        "id": "YvkcLrhNfGy6"
      },
      "source": [
        "Get the string from user and encrypt it by sha384 argument"
      ]
    },
    {
      "cell_type": "code",
      "metadata": {
        "colab": {
          "base_uri": "https://localhost:8080/"
        },
        "id": "qz0VovzsfRDv",
        "outputId": "ee91053f-dfa8-4855-e527-cd6bd8885ffd"
      },
      "source": [
        "hashing=hashlib.sha384(a.encode())\n",
        "print(hashing.hexdigest())"
      ],
      "execution_count": null,
      "outputs": [
        {
          "output_type": "stream",
          "text": [
            "59e1748777448c69de6b800d7a33bbfb9ff1b463e44354c3553bcdb9c666fa90125a3c79f90397bdf5f6a13de828684f\n"
          ],
          "name": "stdout"
        }
      ]
    },
    {
      "cell_type": "markdown",
      "metadata": {
        "id": "cpCXnWZBfgys"
      },
      "source": [
        "Get the string from user and encrypt it by sha3_384 argument"
      ]
    },
    {
      "cell_type": "code",
      "metadata": {
        "colab": {
          "base_uri": "https://localhost:8080/"
        },
        "id": "w74SBYhCfvS_",
        "outputId": "22ed52b1-4e55-4cd5-a33e-778a78fcee40"
      },
      "source": [
        "hashing=hashlib.sha3_384(a.encode())\n",
        "print(hashing.hexdigest())"
      ],
      "execution_count": null,
      "outputs": [
        {
          "output_type": "stream",
          "text": [
            "720aea11019ef06440fbf05d87aa24680a2153df3907b23631e7177ce620fa1330ff07c0fddee54699a4c3ee0ee9d887\n"
          ],
          "name": "stdout"
        }
      ]
    },
    {
      "cell_type": "markdown",
      "metadata": {
        "id": "kxga2SWjgBDt"
      },
      "source": [
        "SALTING:"
      ]
    },
    {
      "cell_type": "markdown",
      "metadata": {
        "id": "a0BbMYUbhP4Y"
      },
      "source": [
        "md5 Salting"
      ]
    },
    {
      "cell_type": "code",
      "metadata": {
        "colab": {
          "base_uri": "https://localhost:8080/"
        },
        "id": "Ie8vPLzFXUYI",
        "outputId": "5a15ad19-5b45-453e-b1dc-a765b71f7392"
      },
      "source": [
        "dk = hashlib.pbkdf2_hmac(\"md5\",b\"hello\",b\"\",10)\n",
        "print(binascii.hexlify(dk))"
      ],
      "execution_count": null,
      "outputs": [
        {
          "output_type": "stream",
          "text": [
            "b'cc661beca6319249cbc67d83d7574bae'\n"
          ],
          "name": "stdout"
        }
      ]
    },
    {
      "cell_type": "markdown",
      "metadata": {
        "id": "8FezrlC-hTQJ"
      },
      "source": [
        "sha1 Salting"
      ]
    },
    {
      "cell_type": "code",
      "metadata": {
        "colab": {
          "base_uri": "https://localhost:8080/"
        },
        "id": "cdD2zJqPhKj4",
        "outputId": "8b29a456-fa6a-46a7-d8d9-c065e19c482a"
      },
      "source": [
        "dk = hashlib.pbkdf2_hmac(\"sha1\",b\"hello\",b\"\",10)\n",
        "print(binascii.hexlify(dk))"
      ],
      "execution_count": null,
      "outputs": [
        {
          "output_type": "stream",
          "text": [
            "b'b91af479c3c7bb818daabbd36a08a1d057e5d041'\n"
          ],
          "name": "stdout"
        }
      ]
    }
  ]
}